{
 "cells": [
  {
   "cell_type": "markdown",
   "metadata": {},
   "source": [
    "* This notebook needs you to provide a FASTA file and a HMMER file\n",
    "* It then searches through the FASTA file and checks to see if there is a hit for the profile.\n",
    "* It then creates a new FASTA file that contains the sequence content only from the start of the profile hit until the C-terminus.\n",
    "* If a sequence does not have a hit for the profile it will not appear in the new FASTA file."
   ]
  },
  {
   "cell_type": "code",
   "execution_count": 4,
   "metadata": {},
   "outputs": [],
   "source": [
    "import os\n",
    "from Bio import SearchIO\n",
    "import sequence\n",
    "\n",
    "# Sequences you want to search in\n",
    "fasta_path = \"./a_regions_1128.fasta\"\n",
    "\n",
    "# Profile to check with\n",
    "hmm_path = \"./pore.hmm\"\n",
    "\n",
    "# Where to save the intermediate results from the hmmer search\n",
    "outpath = \"./a_regions_1128.txt\"\n",
    "\n",
    "# Where to save the final trimmed sequences\n",
    "fasta_outpath = \"./a_regions_1128_pore.fasta\""
   ]
  },
  {
   "cell_type": "code",
   "execution_count": 5,
   "metadata": {},
   "outputs": [
    {
     "data": {
      "text/plain": [
       "0"
      ]
     },
     "execution_count": 5,
     "metadata": {},
     "output_type": "execute_result"
    }
   ],
   "source": [
    "# Load sequences\n",
    "seqs = sequence.readFastaFile(fasta_path)\n",
    "\n",
    "# Search the sequences with the profile\n",
    "os.system('hmmsearch -o' + outpath + ' --domT 1 ' + hmm_path + \" \" + fasta_path)"
   ]
  },
  {
   "cell_type": "code",
   "execution_count": 6,
   "metadata": {},
   "outputs": [
    {
     "name": "stdout",
     "output_type": "stream",
     "text": [
      "585\n",
      "564\n",
      "ERROR: More HSPs than expected\n",
      "NZ_VOBM01000105.1_information_Pseudomonas_sp._region_A1_expanded_4032976_4035892_backward_joined_A2_expanded_4031147_4032953_backward didn't have a hit for pore\n",
      "NZ_QUMR01000030.1_information_Pseudomonas_sp._region_A1_expanded_2440753_2444485_backward_joined_A2_expanded_2438435_2440754_backward didn't have a hit for pore\n",
      "NZ_QVIG01000004.1_information_Kitasatospora_xanthocidica_region_TcdA1_expanded_1514345_1522262_backward didn't have a hit for pore\n",
      "NZ_FONE01000126.1_information_Nitrosomonas_sp._region_TcdA1_expanded_1271605_1280425_forward didn't have a hit for pore\n",
      "NZ_CBLI010000886.1_information_Yersinia_wautersii_region_TcdA1_expanded_3904237_3906139_backward didn't have a hit for pore\n",
      "NC_020418.1_information_Morganella_morganii_region_TcdA1_expanded_2005504_2009848_backward didn't have a hit for pore\n",
      "NZ_FORB01000034.1_information_Pseudomonas_sp._region_TcdA1_expanded_1386611_1386896_backward didn't have a hit for pore\n",
      "NZ_FORB01000034.1_information_Pseudomonas_sp._region_TcdA1_expanded_6259359_6259647_forward didn't have a hit for pore\n",
      "NZ_FOZR01000085.1_information_Porphyromonadaceae_bacterium_region_TcdA1_expanded_504785_511055_backward didn't have a hit for pore\n",
      "NZ_LT605205.1_information_Proteiniphilum_saccharofermentans_region_TcdA1_expanded_2176460_2182730_forward didn't have a hit for pore\n",
      "NZ_PYAW01000034.1_information_Chitinophaga_niastensis_region_TcdA1_expanded_4820350_4827010_backward didn't have a hit for pore\n",
      "NZ_PTJB01000052.1_information_Arthrobacter_sp._region_TcdA1_expanded_1918013_1926287_forward didn't have a hit for pore\n"
     ]
    }
   ],
   "source": [
    "def get_pos_dict_from_hmm(path):\n",
    "    qresult = SearchIO.read(path, 'hmmer3-text')\n",
    "    \n",
    "    pos_dict = {}\n",
    "    \n",
    "    print (len(qresult.hsps))\n",
    "    print (len(seqs))\n",
    "    \n",
    "    if len(qresult.hsps) > len(seqs):\n",
    "        print (\"ERROR: More HSPs than expected\")\n",
    "    \n",
    "    for hsp in qresult.hsps:\n",
    "#         print (hsp.hit.id)\n",
    "#         print (hsp.hit_start)\n",
    "#         print (hsp.hit_end)\n",
    "        pos_dict[hsp.hit.id] = (hsp.hit_start, hsp.hit_end)\n",
    "        \n",
    "    return pos_dict\n",
    "            \n",
    "pos_dict = get_pos_dict_from_hmm(outpath)\n",
    "\n",
    "trimmed = []\n",
    "\n",
    "for seq in seqs:\n",
    "    if seq.name in pos_dict:\n",
    "        trimmed.append(sequence.Sequence(\"\".join(seq.sequence[pos_dict[seq.name][0]:]), name=seq.name))\n",
    "    else:\n",
    "        print (seq.name + \" didn't have a hit for pore\")\n",
    "    \n",
    "sequence.writeFastaFile(fasta_outpath, trimmed)"
   ]
  },
  {
   "cell_type": "code",
   "execution_count": null,
   "metadata": {},
   "outputs": [],
   "source": []
  }
 ],
 "metadata": {
  "kernelspec": {
   "display_name": "Python 3",
   "language": "python",
   "name": "python3"
  },
  "language_info": {
   "codemirror_mode": {
    "name": "ipython",
    "version": 3
   },
   "file_extension": ".py",
   "mimetype": "text/x-python",
   "name": "python",
   "nbconvert_exporter": "python",
   "pygments_lexer": "ipython3",
   "version": "3.7.2"
  }
 },
 "nbformat": 4,
 "nbformat_minor": 2
}
