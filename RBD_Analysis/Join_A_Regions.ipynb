{
 "cells": [
  {
   "cell_type": "code",
   "execution_count": 62,
   "metadata": {},
   "outputs": [],
   "source": [
    "from Bio import SeqIO\n",
    "from Bio.SeqRecord import SeqRecord\n",
    "\n",
    "# Paste in the contents from associated_regions.txt\n",
    "associated_regions = {\"NZ_CP014947.1_information_Pseudomonas_koreensis_region_A1_expanded_5386819_5390464_backward\": \"NZ_CP014947.1_information_Pseudomonas_koreensis_region_A2_expanded_5382657_5387067_backward\", \"NZ_CP014947.1_information_Pseudomonas_koreensis_region_A1_expanded_4428384_4431948_forward\": \"NZ_CP014947.1_information_Pseudomonas_koreensis_region_A2_expanded_4431960_4436793_forward\"}\n",
    "\n",
    "A1_path = \"./A_regions_to_join/A1_expanded.fasta\"\n",
    "A2_path = \"./A_regions_to_join/A2_expanded.fasta\"\n",
    "TcdA1_path = \"./A_regions_to_join/TcdA1_expanded.fasta\"\n",
    "\n",
    "output_path =\"./output.fasta\""
   ]
  },
  {
   "cell_type": "code",
   "execution_count": 63,
   "metadata": {},
   "outputs": [],
   "source": [
    "A1 = SeqIO.to_dict(SeqIO.parse(A1_path, format='fasta'))\n",
    "A2 = SeqIO.to_dict(SeqIO.parse(A2_path, format='fasta'))\n",
    "TcdA1 = list(SeqIO.parse(TcdA1_path, format='fasta'))"
   ]
  },
  {
   "cell_type": "code",
   "execution_count": 64,
   "metadata": {},
   "outputs": [
    {
     "data": {
      "text/plain": [
       "10"
      ]
     },
     "execution_count": 64,
     "metadata": {},
     "output_type": "execute_result"
    }
   ],
   "source": [
    "# for seq in A2.keys():\n",
    "#     print (seq)\n",
    "# print ()\n",
    "\n",
    "joined_seqs = []\n",
    "\n",
    "\n",
    "for seq_name, seq in A1.items():\n",
    "#     print ()\n",
    "#     print (seq.name)\n",
    "\n",
    "    if seq_name in associated_regions.keys():\n",
    "#         print ('in assoc')\n",
    "#         print ('yay')\n",
    "#         print (associated_regions[seq])\n",
    "#         print (seq_name)\n",
    "#         print (\"AND\")\n",
    "        \n",
    "        associated_seq = A2[associated_regions[seq_name]]\n",
    "#         print (A2[associated_regions[seq_name]].name)\n",
    "#         print ()\n",
    "        \n",
    "        joined_name = seq_name + \"_joined_\" + associated_seq.name.split(\"_region_\")[1]\n",
    "        joined_seq = seq.seq + associated_seq.seq\n",
    "        joined_seq_record = SeqRecord(joined_seq, joined_name)\n",
    "        joined_seqs.append(joined_seq_record)\n",
    "        \n",
    "        \n",
    "    \n",
    "    else:\n",
    "#         print ('not in assoc')\n",
    "        genome_id = seq_name.split(\"_information_\")[0]\n",
    "        \n",
    "#         print (genome_id)\n",
    "        for seq2_name, seq_2 in A2.items():\n",
    "            if seq2_name.startswith(genome_id):\n",
    "#                 print ('found it')\n",
    "#                 print (seq2_name)\n",
    "#                 print (seq_2)\n",
    "#                 print (seq_2.seq)\n",
    "#                 print ()\n",
    "#                 print (seq)\n",
    "#                 print (seq.seq)\n",
    "# #                 print (seq_name)\n",
    "# #                 print (\"AND\")\n",
    "# #                 print (seq2)\n",
    "# #                 print ()\n",
    "\n",
    "                \n",
    "                joined_name = seq_name + \"_joined_\" + seq2_name.split(\"_region_\")[1]\n",
    "                joined_seq = seq.seq + seq_2.seq\n",
    "                joined_seq_record = SeqRecord(joined_seq, joined_name)\n",
    "                joined_seqs.append(joined_seq_record)\n",
    "                break\n",
    "\n",
    "joined_seqs = joined_seqs + TcdA1\n",
    "\n",
    "\n",
    "SeqIO.write(joined_seqs, output_path, \"fasta\")\n",
    "\n"
   ]
  },
  {
   "cell_type": "markdown",
   "metadata": {},
   "source": [
    "### "
   ]
  }
 ],
 "metadata": {
  "kernelspec": {
   "display_name": "Python 3",
   "language": "python",
   "name": "python3"
  },
  "language_info": {
   "codemirror_mode": {
    "name": "ipython",
    "version": 3
   },
   "file_extension": ".py",
   "mimetype": "text/x-python",
   "name": "python",
   "nbconvert_exporter": "python",
   "pygments_lexer": "ipython3",
   "version": "3.7.2"
  }
 },
 "nbformat": 4,
 "nbformat_minor": 2
}
