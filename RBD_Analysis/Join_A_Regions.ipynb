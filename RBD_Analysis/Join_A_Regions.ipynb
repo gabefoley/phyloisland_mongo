{
 "cells": [
  {
   "cell_type": "code",
   "execution_count": 1,
   "metadata": {},
   "outputs": [],
   "source": [
    "from join_a_regions_setup import *"
   ]
  },
  {
   "cell_type": "code",
   "execution_count": 2,
   "metadata": {},
   "outputs": [],
   "source": [
    "from Bio import SeqIO\n",
    "from Bio.SeqRecord import SeqRecord\n",
    "\n",
    "A1 = SeqIO.to_dict(SeqIO.parse(A1_path, format='fasta'))\n",
    "A2 = SeqIO.to_dict(SeqIO.parse(A2_path, format='fasta'))\n",
    "TcdA1 = list(SeqIO.parse(TcdA1_path, format='fasta'))"
   ]
  },
  {
   "cell_type": "code",
   "execution_count": 3,
   "metadata": {},
   "outputs": [
    {
     "data": {
      "text/plain": [
       "10"
      ]
     },
     "execution_count": 3,
     "metadata": {},
     "output_type": "execute_result"
    }
   ],
   "source": [
    "joined_seqs = []\n",
    "\n",
    "\n",
    "for seq_name, seq in A1.items():\n",
    "    if seq_name in associated_regions.keys():\n",
    "        if associated_regions[seq_name] in A2:\n",
    "            associated_seq = A2[associated_regions[seq_name]]\n",
    "\n",
    "            joined_name = seq_name + \"_joined_\" + associated_seq.name.split(\"_region_\")[1]\n",
    "            joined_seq = seq.seq + associated_seq.seq\n",
    "            joined_seq_record = SeqRecord(joined_seq, joined_name)\n",
    "            joined_seqs.append(joined_seq_record)\n",
    "            \n",
    "        else:\n",
    "            print (associated_regions[seq_name])\n",
    "        \n",
    "        \n",
    "    \n",
    "    else:\n",
    "        genome_id = seq_name.split(\"_information_\")[0]\n",
    "        \n",
    "        for seq2_name, seq_2 in A2.items():\n",
    "            if seq2_name.startswith(genome_id):   \n",
    "                joined_name = seq_name + \"_joined_\" + seq2_name.split(\"_region_\")[1]\n",
    "                joined_seq = seq.seq + seq_2.seq\n",
    "                joined_seq_record = SeqRecord(joined_seq, joined_name)\n",
    "                joined_seqs.append(joined_seq_record)\n",
    "                break\n",
    "\n",
    "joined_seqs = joined_seqs + TcdA1\n",
    "\n",
    "\n",
    "SeqIO.write(joined_seqs, output_path, \"fasta\")\n",
    "\n"
   ]
  },
  {
   "cell_type": "markdown",
   "metadata": {},
   "source": [
    "### "
   ]
  }
 ],
 "metadata": {
  "kernelspec": {
   "display_name": "Python 3",
   "language": "python",
   "name": "python3"
  },
  "language_info": {
   "codemirror_mode": {
    "name": "ipython",
    "version": 3
   },
   "file_extension": ".py",
   "mimetype": "text/x-python",
   "name": "python",
   "nbconvert_exporter": "python",
   "pygments_lexer": "ipython3",
   "version": "3.7.2"
  }
 },
 "nbformat": 4,
 "nbformat_minor": 2
}
