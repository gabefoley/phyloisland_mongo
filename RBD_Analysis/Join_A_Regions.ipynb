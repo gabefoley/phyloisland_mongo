{
 "cells": [
  {
   "cell_type": "code",
   "execution_count": 8,
   "metadata": {},
   "outputs": [],
   "source": [
    "from join_a_regions_setup import *"
   ]
  },
  {
   "cell_type": "code",
   "execution_count": 9,
   "metadata": {},
   "outputs": [],
   "source": [
    "from Bio import SeqIO\n",
    "from Bio.SeqRecord import SeqRecord\n",
    "\n",
    "A1 = SeqIO.to_dict(SeqIO.parse(A1_path, format='fasta'))\n",
    "A2 = SeqIO.to_dict(SeqIO.parse(A2_path, format='fasta'))\n",
    "TcdA1 = list(SeqIO.parse(TcdA1_path, format='fasta'))\n",
    "\n",
    "editedA2 = {}\n",
    "\n",
    "for k,v in A2.items():\n",
    "    editedA2[k.split('_taxid')[0] + \"_region_\" + k.split(\"_region_\")[1]] = v"
   ]
  },
  {
   "cell_type": "code",
   "execution_count": 10,
   "metadata": {},
   "outputs": [
    {
     "name": "stdout",
     "output_type": "stream",
     "text": [
      "There was 65 A1 sequences\n",
      "There were 5 A1 sequences in the FASTA file but not in the Associated Regions dictionary\n",
      "There were 0 A1 sequences that were in the FASTA file and the Associated Regions dictionary but where the matching A2 sequence wasn't in the FASTA file \n",
      "\n",
      "There was 111 A2 sequences\n",
      "There were 51 A2 sequences we couldn't match to an A1 sequence\n",
      "\n",
      "There were 60 joined A1 and A2 sequences \n",
      "\n",
      "We are going to add the A2 sequences without an A1 match\n",
      "Now there are 111 total sequences\n",
      "\n",
      "There was 235 TcdA1 sequences\n",
      "We are going to add the TcdA1 sequences\n",
      "Now there are 346 total sequences\n",
      "\n",
      "Added back the TcdA1 sequences and now there are 346\n"
     ]
    },
    {
     "data": {
      "text/plain": [
       "346"
      ]
     },
     "execution_count": 10,
     "metadata": {},
     "output_type": "execute_result"
    }
   ],
   "source": [
    "add_unmatched_A2 = True\n",
    "add_tcdA1 = True\n",
    "\n",
    "joined_seqs = []\n",
    "\n",
    "a1_not_in_ar = []\n",
    "a2_not_in_fasta = []\n",
    "\n",
    "seen_a2 = []\n",
    "unassociated_a2 = []\n",
    "\n",
    "for seq_name, seq in A1.items():\n",
    "    edit_name = seq.name.split('_taxid')[0] + \"_region_\" + seq.name.split(\"_region_\")[1]\n",
    "    if edit_name in associated_regions.keys():\n",
    "        if associated_regions[edit_name] in editedA2:\n",
    "            associated_seq = editedA2[associated_regions[edit_name]]\n",
    "            \n",
    "            seen_a2.append(associated_seq.name)\n",
    "\n",
    "            joined_name = seq_name + \"_joined_\" + associated_seq.name.split(\"_region_\")[1]\n",
    "            joined_seq = seq.seq + associated_seq.seq\n",
    "            joined_seq_record = SeqRecord(joined_seq, joined_name)\n",
    "            joined_seqs.append(joined_seq_record)\n",
    "            \n",
    "        else:\n",
    "            a2_not_in_fasta.append(associated_regions[edit_name])\n",
    "        \n",
    "    else:\n",
    "        a1_not_in_ar.append(seq_name)\n",
    "\n",
    "\n",
    "\n",
    "for seq2_name, seq_2 in A2.items():\n",
    "    if seq2_name not in seen_a2:\n",
    "        unassociated_a2.append(seq_2)\n",
    "        \n",
    "print (f\"There was {len(A1)} A1 sequences\")\n",
    "print (f\"There were {len(a1_not_in_ar)} A1 sequences in the FASTA file but not in the Associated Regions dictionary\")\n",
    "print (f\"There were {len(a2_not_in_fasta)} A1 sequences that were in the FASTA file and the Associated Regions dictionary but where the matching A2 sequence wasn't in the FASTA file \\n\")\n",
    "\n",
    "print (f\"There was {len(A2)} A2 sequences\")\n",
    "print (f\"There were {len(unassociated_a2)} A2 sequences we couldn't match to an A1 sequence\\n\")\n",
    "\n",
    "\n",
    "print (f\"There were {len(joined_seqs)} joined A1 and A2 sequences \\n\")\n",
    "\n",
    "if add_unmatched_A2:\n",
    "    print (\"We are going to add the A2 sequences without an A1 match\")\n",
    "    joined_seqs = joined_seqs + unassociated_a2\n",
    "    print (f\"Now there are {len(joined_seqs)} total sequences\\n\")\n",
    "\n",
    "print (f\"There was {len(TcdA1)} TcdA1 sequences\")\n",
    "\n",
    "\n",
    "\n",
    "\n",
    "if add_tcdA1:\n",
    "    print (\"We are going to add the TcdA1 sequences\")\n",
    "    joined_seqs = joined_seqs + TcdA1\n",
    "    print (f\"Now there are {len(joined_seqs)} total sequences\\n\")\n",
    "\n",
    "\n",
    "print (f\"Added back the TcdA1 sequences and now there are {len(joined_seqs)}\")\n",
    "\n",
    "SeqIO.write(joined_seqs, output_path, \"fasta\")\n",
    "\n"
   ]
  },
  {
   "cell_type": "code",
   "execution_count": 11,
   "metadata": {},
   "outputs": [
    {
     "name": "stdout",
     "output_type": "stream",
     "text": [
      "These A1 sequences were in the FASTA file but not the Associated Regions file\n",
      "\n",
      "JPPA01_information_Clostridioides_difficile_taxid_1496_region_A1_expanded_[181.8]_2822804_2831114_backward\n",
      "RCWL01_information_Gynurincola_endophyticus_taxid_2479004_region_A1_expanded_[101.0]_3113801_3122594_forward\n",
      "CAAJVF01_information_Clostridioides_difficile_taxid_1496_region_A1_expanded_[179.1]_1193279_1201592_forward\n",
      "SMDG01_information_Bacillus_thuringiensis_taxid_1428_region_A1_expanded_[213.0]_3368558_3371876_forward\n",
      "JABWHT01_information_Bacillus_thuringiensis_taxid_1428_region_A1_expanded_[202.2]_292845_296112_backward\n"
     ]
    }
   ],
   "source": [
    "print (\"These A1 sequences were in the FASTA file but not the Associated Regions file\\n\")\n",
    "for x in a1_not_in_ar:\n",
    "    print (x)"
   ]
  },
  {
   "cell_type": "code",
   "execution_count": 12,
   "metadata": {},
   "outputs": [
    {
     "name": "stdout",
     "output_type": "stream",
     "text": [
      "These A1 sequences were in the FASTA file and the Associated Regions dictionary but the matching A2 sequence wasn't in the FASTA file\n",
      "\n"
     ]
    }
   ],
   "source": [
    "print (\"These A1 sequences were in the FASTA file and the Associated Regions dictionary but the matching A2 sequence wasn't in the FASTA file\\n\")\n",
    "for x in a2_not_in_fasta:\n",
    "    print (x)"
   ]
  },
  {
   "cell_type": "markdown",
   "metadata": {},
   "source": [
    "### "
   ]
  }
 ],
 "metadata": {
  "kernelspec": {
   "display_name": "Python 3",
   "language": "python",
   "name": "python3"
  },
  "language_info": {
   "codemirror_mode": {
    "name": "ipython",
    "version": 3
   },
   "file_extension": ".py",
   "mimetype": "text/x-python",
   "name": "python",
   "nbconvert_exporter": "python",
   "pygments_lexer": "ipython3",
   "version": "3.7.2"
  }
 },
 "nbformat": 4,
 "nbformat_minor": 2
}
