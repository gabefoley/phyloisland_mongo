{
 "cells": [
  {
   "cell_type": "code",
   "execution_count": 1,
   "metadata": {},
   "outputs": [],
   "source": [
    "from join_a_regions_setup import *"
   ]
  },
  {
   "cell_type": "code",
   "execution_count": 2,
   "metadata": {},
   "outputs": [],
   "source": [
    "from Bio import SeqIO\n",
    "from Bio.SeqRecord import SeqRecord\n",
    "\n",
    "A1 = SeqIO.to_dict(SeqIO.parse(A1_path, format='fasta'))\n",
    "A2 = SeqIO.to_dict(SeqIO.parse(A2_path, format='fasta'))\n",
    "TcdA1 = list(SeqIO.parse(TcdA1_path, format='fasta'))"
   ]
  },
  {
   "cell_type": "code",
   "execution_count": 37,
   "metadata": {},
   "outputs": [
    {
     "name": "stdout",
     "output_type": "stream",
     "text": [
      "There was 220 A1 sequences\n",
      "There were 18 A1 sequences in the FASTA file but not in the Associated Regions dictionary\n",
      "There were 0 A1 sequences that were in the FASTA file and the Associated Regions dictionary but where the matching A2 sequence wasn't in the FASTA file \n",
      "\n",
      "There was 262 A2 sequences\n",
      "There were 60 A2 sequences we couldn't match to an A1 sequence\n",
      "\n",
      "There were 202 joined A1 and A2 sequences \n",
      "\n",
      "We are going to add the A2 sequences without an A1 match\n",
      "Now there are 262 total sequences\n",
      "\n",
      "There was 270 TcdA1 sequences\n",
      "We are going to add the TcdA1 sequences\n",
      "Now there are 532 total sequences\n",
      "\n",
      "Added back the TcdA1 sequences and now there are 532\n"
     ]
    },
    {
     "data": {
      "text/plain": [
       "532"
      ]
     },
     "execution_count": 37,
     "metadata": {},
     "output_type": "execute_result"
    }
   ],
   "source": [
    "add_unmatched_A2 = True\n",
    "add_tcdA1 = True\n",
    "\n",
    "joined_seqs = []\n",
    "\n",
    "a1_not_in_ar = []\n",
    "a2_not_in_fasta = []\n",
    "\n",
    "seen_a2 = []\n",
    "unassociated_a2 = []\n",
    "\n",
    "for seq_name, seq in A1.items():\n",
    "    if seq_name in associated_regions.keys():\n",
    "        if associated_regions[seq_name] in A2:\n",
    "            associated_seq = A2[associated_regions[seq_name]]\n",
    "            \n",
    "            seen_a2.append(associated_seq.name)\n",
    "\n",
    "            joined_name = seq_name + \"_joined_\" + associated_seq.name.split(\"_region_\")[1]\n",
    "            joined_seq = seq.seq + associated_seq.seq\n",
    "            joined_seq_record = SeqRecord(joined_seq, joined_name)\n",
    "            joined_seqs.append(joined_seq_record)\n",
    "            \n",
    "        else:\n",
    "            a2_not_in_fasta.append(associated_regions[seq_name])\n",
    "        \n",
    "    else:\n",
    "        a1_not_in_ar.append(seq_name)\n",
    "\n",
    "\n",
    "\n",
    "for seq2_name, seq_2 in A2.items():\n",
    "    if seq2_name not in seen_a2:\n",
    "        unassociated_a2.append(seq_2)\n",
    "        \n",
    "print (f\"There was {len(A1)} A1 sequences\")\n",
    "print (f\"There were {len(a1_not_in_ar)} A1 sequences in the FASTA file but not in the Associated Regions dictionary\")\n",
    "print (f\"There were {len(a2_not_in_fasta)} A1 sequences that were in the FASTA file and the Associated Regions dictionary but where the matching A2 sequence wasn't in the FASTA file \\n\")\n",
    "\n",
    "print (f\"There was {len(A2)} A2 sequences\")\n",
    "print (f\"There were {len(unassociated_a2)} A2 sequences we couldn't match to an A1 sequence\\n\")\n",
    "\n",
    "\n",
    "print (f\"There were {len(joined_seqs)} joined A1 and A2 sequences \\n\")\n",
    "\n",
    "if add_unmatched_A2:\n",
    "    print (\"We are going to add the A2 sequences without an A1 match\")\n",
    "    joined_seqs = joined_seqs + unassociated_a2\n",
    "    print (f\"Now there are {len(joined_seqs)} total sequences\\n\")\n",
    "\n",
    "print (f\"There was {len(TcdA1)} TcdA1 sequences\")\n",
    "\n",
    "\n",
    "\n",
    "\n",
    "if add_tcdA1:\n",
    "    print (\"We are going to add the TcdA1 sequences\")\n",
    "    joined_seqs = joined_seqs + TcdA1\n",
    "    print (f\"Now there are {len(joined_seqs)} total sequences\\n\")\n",
    "\n",
    "\n",
    "print (f\"Added back the TcdA1 sequences and now there are {len(joined_seqs)}\")\n",
    "\n",
    "SeqIO.write(joined_seqs, output_path, \"fasta\")\n",
    "\n"
   ]
  },
  {
   "cell_type": "code",
   "execution_count": 34,
   "metadata": {},
   "outputs": [
    {
     "name": "stdout",
     "output_type": "stream",
     "text": [
      "These A1 sequences were in the FASTA file but not the Associated Regions file\n",
      "\n",
      "JPPA01_information_Clostridioides_difficile_region_A1_expanded_[181.8]_2822804_2831114_backward\n",
      "PCQC01_information_Pseudomonas_sp._region_A1_expanded_[650.3]_3038883_3043770_backward\n",
      "NZ_CP047073.1_information_Pseudomonas_syringae_region_A1_expanded_[297.6]_4894387_4895503_forward\n",
      "RCWL01_information_Gynurincola_endophyticus_region_A1_expanded_[101.0]_3113801_3122594_forward\n",
      "VUOC01_information_Chitinophaga_sp._region_A1_expanded_[153.8]_5016839_5026634_forward\n",
      "QOVA01_information_Edaphovirga_cremea_region_A1_expanded_[990.4]_2339462_2347490_forward\n",
      "BCBA01_information_Pseudomonas_sp._region_A1_expanded_[626.6]_5438700_5443413_backward\n",
      "NEVM01_information_Bordetella_genomosp._region_A1_expanded_[335.9]_4667628_4675959_forward\n",
      "VIUK01_information_Pseudomonas_sp._region_A1_expanded_[778.2]_3215777_3222641_backward\n",
      "AXDH01_information_Yersinia_pestis_region_A1_expanded_[106.0]_809017_811519_backward\n",
      "NZ_CP044064.1_information_Yersinia_pseudotuberculosis_region_A1_expanded_[101.2]_3423115_3425359_forward\n",
      "CAAJVF01_information_Clostridioides_difficile_region_A1_expanded_[179.1]_1193279_1201592_forward\n",
      "SMDG01_information_Bacillus_thuringiensis_region_A1_expanded_[213.0]_3368558_3371876_forward\n",
      "NVDM01_information_Bacillus_thuringiensis_region_A1_expanded_[238.8]_985913_989213_forward\n",
      "VIYH01_information_Pseudomonas_prosekii_region_A1_expanded_[490.3]_5036279_5038100_forward\n",
      "PQKR01_information_Escherichia_sp._region_A1_expanded_[1002.5]_1254442_1258861_forward\n",
      "BJMH01_information_Brevibacillus_parabrevis_region_A1_expanded_[161.9]_4829004_4837227_backward\n",
      "JABWHT01_information_Bacillus_thuringiensis_region_A1_expanded_[202.2]_292845_296112_backward\n"
     ]
    }
   ],
   "source": [
    "print (\"These A1 sequences were in the FASTA file but not the Associated Regions file\\n\")\n",
    "for x in a1_not_in_ar:\n",
    "    print (x)"
   ]
  },
  {
   "cell_type": "code",
   "execution_count": 36,
   "metadata": {},
   "outputs": [
    {
     "name": "stdout",
     "output_type": "stream",
     "text": [
      "These A1 sequences were in the FASTA file and the Associated Regions dictionary but the matching A2 sequence wasn't in the FASTA file\n",
      "\n"
     ]
    }
   ],
   "source": [
    "print (\"These A1 sequences were in the FASTA file and the Associated Regions dictionary but the matching A2 sequence wasn't in the FASTA file\\n\")\n",
    "for x in a2_not_in_fasta:\n",
    "    print (x)"
   ]
  },
  {
   "cell_type": "markdown",
   "metadata": {},
   "source": [
    "### "
   ]
  }
 ],
 "metadata": {
  "kernelspec": {
   "display_name": "Python 3",
   "language": "python",
   "name": "python3"
  },
  "language_info": {
   "codemirror_mode": {
    "name": "ipython",
    "version": 3
   },
   "file_extension": ".py",
   "mimetype": "text/x-python",
   "name": "python",
   "nbconvert_exporter": "python",
   "pygments_lexer": "ipython3",
   "version": "3.7.2"
  }
 },
 "nbformat": 4,
 "nbformat_minor": 2
}
